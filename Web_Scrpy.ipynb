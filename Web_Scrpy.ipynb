{
  "nbformat": 4,
  "nbformat_minor": 0,
  "metadata": {
    "colab": {
      "name": "Web_Scrpy.ipynb",
      "provenance": [],
      "authorship_tag": "ABX9TyP8X/BetY12C+Fx3B7rVh6z",
      "include_colab_link": true
    },
    "kernelspec": {
      "name": "python3",
      "display_name": "Python 3"
    },
    "language_info": {
      "name": "python"
    }
  },
  "cells": [
    {
      "cell_type": "markdown",
      "metadata": {
        "id": "view-in-github",
        "colab_type": "text"
      },
      "source": [
        "<a href=\"https://colab.research.google.com/github/AmanPratap14/Web_scraping/blob/main/Web_Scrpy.ipynb\" target=\"_parent\"><img src=\"https://colab.research.google.com/assets/colab-badge.svg\" alt=\"Open In Colab\"/></a>"
      ]
    },
    {
      "cell_type": "code",
      "source": [
        "from google.colab import drive\n",
        "drive.mount('/content/drive')"
      ],
      "metadata": {
        "colab": {
          "base_uri": "https://localhost:8080/"
        },
        "id": "oMJVknOKaz4I",
        "outputId": "2f831db6-eb16-4684-b385-36c7deaefe6f"
      },
      "execution_count": 45,
      "outputs": [
        {
          "output_type": "stream",
          "name": "stdout",
          "text": [
            "Drive already mounted at /content/drive; to attempt to forcibly remount, call drive.mount(\"/content/drive\", force_remount=True).\n"
          ]
        }
      ]
    },
    {
      "cell_type": "code",
      "execution_count": 44,
      "metadata": {
        "id": "Z4sd4wfHY7V6"
      },
      "outputs": [],
      "source": [
        "from bs4 import BeautifulSoup\n",
        "import requests\n",
        "from csv import DictReader\n",
        "import json \n",
        "import time"
      ]
    },
    {
      "cell_type": "markdown",
      "source": [
        "Step 1: Select importing data(ASIN and country) from csv file.\n",
        "and creating urls from given format \"https://www.amazon.\"/country/dp/Asin (ASIN and country)."
      ],
      "metadata": {
        "id": "qAm12PiaaItq"
      }
    },
    {
      "cell_type": "code",
      "source": [
        "start_time = time.time() #starting time for process\n",
        "\n",
        "csv_file = open(\"/content/drive/MyDrive/Colab Notebooks/Amazn_Scraping_sheet.csv\",\"r\",encoding=\"utf-8\")\n",
        "csv_data = DictReader(csv_file)\n",
        "master_data = {}\n",
        "\n",
        "for row in csv_data:\n",
        "    url = \"https://www.amazon.\"+row['country']+\"/dp/\"+row['Asin']\n",
        "    x = requests.get(url)\n",
        "    print(url, x)\n",
        "    \n",
        "    #checking the status code for each url and extracting required data\n",
        "    if (x.status_code == 200):\n",
        "        soup = BeautifulSoup(x.text, 'html.parser')\n",
        "        try:\n",
        "            images = soup.find(id=\"imgBlkFront\").get('data-a-dynamic-image')\n",
        "        except AttributeError:\n",
        "            images = \"Not found\"\n",
        "\n",
        "        try:\n",
        "            price = soup.find(\n",
        "                \"span\",\n",
        "                class_=\"a-size-base a-color-price a-color-price\").get_text()\n",
        "        except AttributeError:\n",
        "            price = \"Not found\"\n",
        "        \n",
        "        try:\n",
        "            desc = soup.find(\n",
        "            \"div\",\n",
        "            class_=\"a-section a-spacing-small a-padding-small\").get_text()\n",
        "        except AttributeError:\n",
        "            desc = \"Not found\"\n",
        "\n",
        "        try:\n",
        "            title = soup.find(id=\"productTitle\").get_text()\n",
        "        except AttributeError:\n",
        "            title = \"Not found\"\n",
        "        data = {\"url\":url,\"httpd-code\":x.status_code,\"image\":images,\"title\":title,\"price\":price,\"description\":desc,\"status\":\"success\",\"error\":\"False\"}\n",
        "        # print(data)\n",
        "        master_data[row['id']]= data\n",
        "    else:\n",
        "        # print(\"CANT EXTRACT THIS SITE:\", url, \"SCode: \", x.status_code)\n",
        "        data = {\"id\":row['id'],\"url\":url,\"httpd-code\":x.status_code,\"image\":\"\",\"title\":\"\",\"price\":\"\",\"description\":\"\",\"status\":\"Not Found\",\"error\":\"True\"}\n",
        "        master_data[row['id']]= data"
      ],
      "metadata": {
        "colab": {
          "base_uri": "https://localhost:8080/"
        },
        "id": "xgp3w-PmahJl",
        "outputId": "8a6276b1-6d68-4a51-c1a5-8a78b0bd2447"
      },
      "execution_count": null,
      "outputs": [
        {
          "output_type": "stream",
          "name": "stdout",
          "text": [
            "https://www.amazon.de/dp/1015 <Response [503]>\n",
            "https://www.amazon.fr/dp/1015 <Response [503]>\n",
            "https://www.amazon.de/dp/000004458X <Response [503]>\n",
            "https://www.amazon.fr/dp/000004458X <Response [503]>\n",
            "https://www.amazon.de/dp/1002198 <Response [503]>\n",
            "https://www.amazon.fr/dp/1002198 <Response [503]>\n",
            "https://www.amazon.fr/dp/1002791 <Response [503]>\n",
            "https://www.amazon.it/dp/1002791 <Response [503]>\n",
            "https://www.amazon.de/dp/1002864 <Response [503]>\n",
            "https://www.amazon.fr/dp/1002864 <Response [503]>\n",
            "https://www.amazon.de/dp/1003704 <Response [503]>\n",
            "https://www.amazon.fr/dp/1003704 <Response [503]>\n",
            "https://www.amazon.de/dp/1003763 <Response [503]>\n",
            "https://www.amazon.fr/dp/1003763 <Response [503]>\n",
            "https://www.amazon.fr/dp/1004271 <Response [404]>\n",
            "https://www.amazon.it/dp/1004271 <Response [404]>\n",
            "https://www.amazon.de/dp/000101742X <Response [503]>\n",
            "https://www.amazon.fr/dp/000101742X <Response [503]>\n",
            "https://www.amazon.de/dp/1017519 <Response [503]>\n",
            "https://www.amazon.fr/dp/1017519 <Response [503]>\n",
            "https://www.amazon.de/dp/000102163X <Response [503]>\n",
            "https://www.amazon.fr/dp/000102163X <Response [503]>\n",
            "https://www.amazon.fr/dp/1022369 <Response [503]>\n",
            "https://www.amazon.it/dp/1022369 <Response [503]>\n",
            "https://www.amazon.fr/dp/1022857 <Response [503]>\n",
            "https://www.amazon.it/dp/1022857 <Response [503]>\n",
            "https://www.amazon.de/dp/1032666 <Response [503]>\n",
            "https://www.amazon.fr/dp/1032666 <Response [503]>\n",
            "https://www.amazon.de/dp/1034677 <Response [503]>\n",
            "https://www.amazon.fr/dp/1034677 <Response [404]>\n",
            "https://www.amazon.de/dp/1034936 <Response [503]>\n",
            "https://www.amazon.fr/dp/1034936 <Response [503]>\n",
            "https://www.amazon.de/dp/1034944 <Response [503]>\n",
            "https://www.amazon.fr/dp/1034944 <Response [503]>\n",
            "https://www.amazon.de/dp/1035002 <Response [503]>\n",
            "https://www.amazon.fr/dp/1035002 <Response [503]>\n",
            "https://www.amazon.de/dp/1035029 <Response [503]>\n",
            "https://www.amazon.fr/dp/1035029 <Response [503]>\n",
            "https://www.amazon.de/dp/1035053 <Response [503]>\n",
            "https://www.amazon.es/dp/1035053 <Response [503]>\n",
            "https://www.amazon.fr/dp/1035053 <Response [503]>\n",
            "https://www.amazon.de/dp/1035339 <Response [503]>\n",
            "https://www.amazon.fr/dp/1035339 <Response [503]>\n",
            "https://www.amazon.de/dp/1036866 <Response [503]>\n",
            "https://www.amazon.es/dp/1036866 <Response [503]>\n",
            "https://www.amazon.fr/dp/1036866 <Response [503]>\n",
            "https://www.amazon.de/dp/1037137 <Response [503]>\n",
            "https://www.amazon.fr/dp/1037137 <Response [503]>\n",
            "https://www.amazon.de/dp/1037188 <Response [503]>\n",
            "https://www.amazon.fr/dp/1037188 <Response [503]>\n",
            "https://www.amazon.de/dp/1037994 <Response [503]>\n",
            "https://www.amazon.fr/dp/1037994 <Response [503]>\n",
            "https://www.amazon.de/dp/000103863X <Response [503]>\n",
            "https://www.amazon.fr/dp/000103863X <Response [503]>\n",
            "https://www.amazon.de/dp/1039466 <Response [503]>\n",
            "https://www.amazon.fr/dp/1039466 <Response [503]>\n",
            "https://www.amazon.fr/dp/1040871 <Response [404]>\n",
            "https://www.amazon.it/dp/1040871 <Response [404]>\n",
            "https://www.amazon.de/dp/1040979 <Response [503]>\n",
            "https://www.amazon.fr/dp/1040979 <Response [503]>\n",
            "https://www.amazon.de/dp/1040987 <Response [503]>\n",
            "https://www.amazon.fr/dp/1040987 <Response [503]>\n",
            "https://www.amazon.de/dp/1041002 <Response [503]>\n",
            "https://www.amazon.fr/dp/1041002 <Response [503]>\n",
            "https://www.amazon.de/dp/1041991 <Response [503]>\n",
            "https://www.amazon.fr/dp/1041991 <Response [503]>\n",
            "https://www.amazon.de/dp/000104317X <Response [503]>\n",
            "https://www.amazon.fr/dp/000104317X <Response [503]>\n",
            "https://www.amazon.de/dp/1043331 <Response [503]>\n",
            "https://www.amazon.fr/dp/1043331 <Response [503]>\n",
            "https://www.amazon.de/dp/000104348X <Response [503]>\n",
            "https://www.amazon.fr/dp/000104348X <Response [503]>\n",
            "https://www.amazon.de/dp/1043498 <Response [503]>\n",
            "https://www.amazon.fr/dp/1043498 <Response [503]>\n",
            "https://www.amazon.de/dp/1043773 <Response [503]>\n",
            "https://www.amazon.fr/dp/1043773 <Response [503]>\n",
            "https://www.amazon.de/dp/000104396X <Response [503]>\n",
            "https://www.amazon.fr/dp/000104396X <Response [503]>\n",
            "https://www.amazon.de/dp/1048325 <Response [503]>\n",
            "https://www.amazon.fr/dp/1048325 <Response [503]>\n",
            "https://www.amazon.de/dp/1049119 <Response [503]>\n",
            "https://www.amazon.fr/dp/1049119 <Response [503]>\n",
            "https://www.amazon.de/dp/1057774 <Response [503]>\n",
            "https://www.amazon.fr/dp/1057774 <Response [503]>\n",
            "https://www.amazon.de/dp/1057790 <Response [503]>\n",
            "https://www.amazon.es/dp/1057790 <Response [503]>\n",
            "https://www.amazon.fr/dp/1057790 <Response [503]>\n",
            "https://www.amazon.de/dp/1057812 <Response [503]>\n",
            "https://www.amazon.es/dp/1057812 <Response [503]>\n",
            "https://www.amazon.fr/dp/1057812 <Response [503]>\n",
            "https://www.amazon.de/dp/1057987 <Response [503]>\n",
            "https://www.amazon.fr/dp/1057987 <Response [503]>\n"
          ]
        }
      ]
    },
    {
      "cell_type": "markdown",
      "source": [
        "step3: the extracted data will stored in json file as\n",
        "{\"id\":,\"url\",\"httpd-code\":,\"image\":,\"title\":,\"price\":,\"description\":,\"status\":,\"error\":\n"
      ],
      "metadata": {
        "id": "l3Ff2rxshuGi"
      }
    },
    {
      "cell_type": "code",
      "source": [
        "with open('/content/drive/MyDrive/Colab Notebooks/result.json', 'w') as fp:\n",
        "    json.dump(master_data, fp)\n",
        "\n",
        "print(master_data, '\\t')\n",
        "# here is total time to execute the 1000 urls \n",
        "end_time = time.time()\n"
      ],
      "metadata": {
        "id": "kLTqrhqahBjU"
      },
      "execution_count": null,
      "outputs": []
    }
  ]
}